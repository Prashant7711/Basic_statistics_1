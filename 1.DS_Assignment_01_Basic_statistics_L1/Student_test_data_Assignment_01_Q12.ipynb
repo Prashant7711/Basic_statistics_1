{
 "cells": [
  {
   "cell_type": "code",
   "execution_count": 1,
   "id": "08f46745",
   "metadata": {},
   "outputs": [],
   "source": [
    "import numpy as np\n",
    "import pandas as pd\n",
    "import matplotlib.pyplot as plt\n",
    "import seaborn as sns\n",
    "%matplotlib inline\n",
    "\n",
    "import warnings\n",
    "warnings.filterwarnings(\"ignore\")"
   ]
  },
  {
   "cell_type": "code",
   "execution_count": 13,
   "id": "767bae9b",
   "metadata": {},
   "outputs": [],
   "source": [
    "test=pd.Series([34,36,36,38,38,39,39,40,40,41,41,41,41,42,42,45,49,56])"
   ]
  },
  {
   "cell_type": "code",
   "execution_count": 17,
   "id": "41bc9958",
   "metadata": {},
   "outputs": [
    {
     "name": "stdout",
     "output_type": "stream",
     "text": [
      "mean= 41.0\n"
     ]
    }
   ],
   "source": [
    "# Mean=\n",
    "test.mean()\n",
    "print(\"mean=\",test.mean())"
   ]
  },
  {
   "cell_type": "code",
   "execution_count": 19,
   "id": "91f3f1c2",
   "metadata": {},
   "outputs": [
    {
     "name": "stdout",
     "output_type": "stream",
     "text": [
      "Median= 40.5\n"
     ]
    }
   ],
   "source": [
    "# Median\n",
    "test.median()\n",
    "print(\"Median=\",test.median())"
   ]
  },
  {
   "cell_type": "code",
   "execution_count": 21,
   "id": "0673c445",
   "metadata": {},
   "outputs": [
    {
     "name": "stdout",
     "output_type": "stream",
     "text": [
      "Varience= 25.529411764705884\n"
     ]
    }
   ],
   "source": [
    "# Varience\n",
    "test.var()\n",
    "print(\"Varience=\",test.var())"
   ]
  },
  {
   "cell_type": "code",
   "execution_count": 26,
   "id": "2a34afee",
   "metadata": {},
   "outputs": [
    {
     "name": "stdout",
     "output_type": "stream",
     "text": [
      "Standard Deviation= 5.05266382858645\n"
     ]
    }
   ],
   "source": [
    "#Standard Deviation\n",
    "test.std()\n",
    "print(\"Standard Deviation=\",test.std())"
   ]
  },
  {
   "cell_type": "code",
   "execution_count": 35,
   "id": "4de0a038",
   "metadata": {},
   "outputs": [
    {
     "data": {
      "text/plain": [
       "(array([ 5., 10.,  1.,  1.,  1.]),\n",
       " array([34. , 38.4, 42.8, 47.2, 51.6, 56. ]),\n",
       " <BarContainer object of 5 artists>)"
      ]
     },
     "execution_count": 35,
     "metadata": {},
     "output_type": "execute_result"
    },
    {
     "data": {
      "image/png": "[encoded data removed]",
      "text/plain": [
       "<Figure size 432x288 with 1 Axes>"
      ]
     },
     "metadata": {
      "needs_background": "light"
     },
     "output_type": "display_data"
    }
   ],
   "source": [
    "plt.hist(test,facecolor =\"black\",edgecolor =\"blue\",bins =5)"
   ]
  },
  {
   "cell_type": "code",
   "execution_count": null,
   "id": "183a3f3b",
   "metadata": {},
   "outputs": [],
   "source": [
    "# from the plot maximum data lies between 35 to 45."
   ]
  }
 ],
 "metadata": {
  "kernelspec": {
   "display_name": "Python 3 (ipykernel)",
   "language": "python",
   "name": "python3"
  },
  "language_info": {
   "codemirror_mode": {
    "name": "ipython",
    "version": 3
   },
   "file_extension": ".py",
   "mimetype": "text/x-python",
   "name": "python",
   "nbconvert_exporter": "python",
   "pygments_lexer": "ipython3",
   "version": "3.9.12"
  }
 },
 "nbformat": 4,
 "nbformat_minor": 5
}
